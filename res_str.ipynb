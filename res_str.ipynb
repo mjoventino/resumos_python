{
 "cells": [
  {
   "cell_type": "markdown",
   "metadata": {},
   "source": [
    "# Strings: str"
   ]
  },
  {
   "cell_type": "code",
   "execution_count": 1,
   "metadata": {},
   "outputs": [],
   "source": [
    "s = 'string'"
   ]
  },
  {
   "cell_type": "code",
   "execution_count": 2,
   "metadata": {},
   "outputs": [
    {
     "data": {
      "text/plain": [
       "'st'"
      ]
     },
     "execution_count": 2,
     "metadata": {},
     "output_type": "execute_result"
    }
   ],
   "source": [
    "s[0:2]"
   ]
  },
  {
   "cell_type": "code",
   "execution_count": 4,
   "metadata": {},
   "outputs": [
    {
     "data": {
      "text/plain": [
       "'in'"
      ]
     },
     "execution_count": 4,
     "metadata": {},
     "output_type": "execute_result"
    }
   ],
   "source": [
    "s[-3:-1]"
   ]
  },
  {
   "cell_type": "code",
   "execution_count": 5,
   "metadata": {},
   "outputs": [
    {
     "data": {
      "text/plain": [
       "'ng'"
      ]
     },
     "execution_count": 5,
     "metadata": {},
     "output_type": "execute_result"
    }
   ],
   "source": [
    "s[-2:]"
   ]
  },
  {
   "cell_type": "code",
   "execution_count": 7,
   "metadata": {},
   "outputs": [
    {
     "data": {
      "text/plain": [
       "'gnirts'"
      ]
     },
     "execution_count": 7,
     "metadata": {},
     "output_type": "execute_result"
    }
   ],
   "source": [
    "s[-1::-1]"
   ]
  },
  {
   "cell_type": "markdown",
   "metadata": {},
   "source": [
    "## Métodos do objeto String\n",
    "\n",
    "| Método | Descrição | Exemplo |\n",
    "|:------------|:---------------------------------------------------------------------------------------------|:--------------|\n",
    "| [capitalize()](https://www.programiz.com/python-programming/methods/string/capitalize) | Retorna uma cópia da string com primeiro caractere maiúsculo e os caracteres restantes em minúsculo | `s.capitalize()`|\n",
    "| [casefold()](https://www.programiz.com/python-programming/methods/string/casefold) | Retorna uma cópia da string convertido para letras minúsculas | `s.casefold()` |\n",
    "| [center()](https://www.programiz.com/python-programming/methods/string/center) | Retorna uma cópia da string centralizada e preenchida com o caractere especificado (*default* = espaço em branco) | `s.center(20)` |\n",
    "| [center()](https://www.programiz.com/python-programming/methods/string/center) | Retorna uma cópia da string centralizada e preenchida com o caractere especificado (*default* = espaço em branco) | `s.center(20, '*')` |\n",
    "| [count()](https://www.programiz.com/python-programming/methods/string/count) | Retorna o número de ocorrências de um determinado substring | `s.count('abc')` |\n",
    "| [encode()](https://www.programiz.com/python-programming/methods/string/encode) | Retorna uma cópia da string utilizando um determinando *encoding* (*default* = UTF-8)| `s.encode()`|\n",
    "| [endswith()](https://www.programiz.com/python-programming/methods/string/endswith) | Retorna `True` se uma string terminar com o sufixo especificado | `s.endswith(\"python\")` |\n",
    "| [expandtabs()](https://www.programiz.com/python-programming/methods/string/expandtabs) | Retorna uma cópia da string no qual os caracteres de tabulação `\\t` são substituídos por caracteres de espaço em branco | s.expandtabs(3)\n",
    "| [find()](https://www.programiz.com/python-programming/methods/string/find) | Retorna o índice da primeira ocorrência da substring. Se não encontrado, retorna -1 | `s.find('python')` |\n",
    "| [format()](https://www.programiz.com/python-programming/methods/string/format) | Formata a string de entrada em uma string de saída | `\"{} é {}\".format(\"Python\", \"demais!\")` |\n",
    "| [index()](https://www.programiz.com/python-programming/methods/string/index) | Retorna o índice da primeira ocorrência de uma substring dentro da string. Se a substring não for encontrada, levanta uma exceção | `s.index('python')`|\n",
    "| [isalnum()](https://www.programiz.com/python-programming/methods/string/isalnum) | Retorna `True` se todos os caracteres na string forem alfanuméricos (letras ou números) | `s.isalnum()`|\n",
    "| [isalpha()](https://www.programiz.com/python-programming/methods/string/isalpha) | Retorna `True` se a string tiver apenas letras |`s.isalpha()`|\n",
    "| isascii() | Retorna True se todos os caracteres na string forem ASCII | `s.isascii()`|\n",
    "| [isdecimal()](https://www.programiz.com/python-programming/methods/string/isdecimal) | Retorna `True` se todos os caracteres na string forem decimais (0 a 9) | `s.isdecimal()` |\n",
    "| [isdigit()](https://www.programiz.com/python-programming/methods/string/isdigit) | Retorna `True` se todos os caracteres na string forem dígitos (ex: 3²) | `s.isdigit()`|\n",
    "| [isidentifier()](https://www.programiz.com/python-programming/methods/string/isidentifier) | Retorna `True` se a string for um identificador válido em Python | `s.isidentifier()`|\n",
    "| [islower()](https://www.programiz.com/python-programming/methods/string/islower) | Retorna `True` se todos as letras da string forem letras minúsculas | `s.islower()` |\n",
    "| [isnumeric()](https://www.programiz.com/python-programming/methods/string/isnumeric) | Retorna `True` se todos os caracteres na string forem numéricos (ex: ½) | `s.isnumeric()`|\n",
    "| [isprintable()](https://www.programiz.com/python-programming/methods/string/isprintable) | Retorna `True` se todos os caracteres da string podem ser impressos | `s.isprintable()`|\n",
    "| [isspace()](https://www.programiz.com/python-programming/methods/string/isspace) | Retorna `True` se houverem apenas espaços em branco na string | `s.isspace()` |\n",
    "| [istitle()](https://www.programiz.com/python-programming/methods/string/istitle) | Retorna `True` se a string estiver em formato de *título*, ou seja, se cada palavra da string começa com letra maiúscula e tem o restante das letras minúsculas | `s.istitle()`|\n",
    "| [isupper()](https://www.programiz.com/python-programming/methods/string/isupper) | Retorna `True` se todos as letras do string forem letras maiúsculas | `s.isupper()` |\n",
    "| [ljust()](https://www.programiz.com/python-programming/methods/string/ljust) | Retorna uma cópia da string justificada à esquerda| `s.ljust(20)`|\n",
    "| [lower()](https://www.programiz.com/python-programming/methods/string/lower) | Retorna uma cópia da string com as letras maiúsculas convertidas em minúsculas | `s.lower()`|\n",
    "| [lstrip()](https://www.programiz.com/python-programming/methods/string/lstrip) | Retorna uma cópia da string com os caracteres passados por parâmetro removidos do início da string | `s.lstrip(' *@')` |\n",
    "| [partition()](https://www.programiz.com/python-programming/methods/string/partition) | Divide a string e retorna uma tupla contendo a parte antes do separador (primeira ocorrência), a string de argumento (separador) e a parte após o separador | `s.partition('@')`|\n",
    "| [replace()](https://www.programiz.com/python-programming/methods/string/replace) | Retorna uma cópia da string onde todas as ocorrências de uma substring são substituídas por outra | `s.partition('@',' at ')`|\n",
    "| [rfind()](https://www.programiz.com/python-programming/methods/string/rfind) | Retorna o índice da última ocorrência da substring. Se não encontrado, retorna -1 | `s.rfind('python')` |\n",
    "| [rindex()](https://www.programiz.com/python-programming/methods/string/rindex) | Retorna o índice da última ocorrência da substring dentro da string. Se a substring não for encontrada, levanta uma exceção | `s.rindex('python')`|\n",
    "| [rjust()](https://www.programiz.com/python-programming/methods/string/rjust) | Retorna uma cópia da string justificada à direita | `s.rjust(20)`|\n",
    "| [rpartition()](https://www.programiz.com/python-programming/methods/string/partition) | Divide a string e retorna uma tupla contendo a parte antes do separador (última ocorrência), a string de argumento (separador) e a parte após o separador | `s.rpartition('@')`|\n",
    "| [rsplit()](https://www.programiz.com/python-programming/methods/string/rsplit) | Divide a string à partir da direita (última posição), usando um separador passado por parâmetro, e retorna uma lista de strings| `s.rsplit(';')`|\n",
    "| [rstrip()](https://www.programiz.com/python-programming/methods/string/rstrip) | Retorna uma cópia da string com os caracteres passados por parâmetro removidos do final da string | `s.rstrip('!?.')` |\n",
    "| [split()](https://www.programiz.com/python-programming/methods/string/split) | Divide a string à partir da esquerda (primeira posição), usando um separador passado por parâmetro, e retorna uma lista de strings| `s.split(';')`|\n",
    "| [splitlines()](https://www.programiz.com/python-programming/methods/string/splitlines) | Divide e retorna as linhas contidas em uma string  | `s.splitlines()`|\n",
    "| [starstwith()](https://www.programiz.com/python-programming/methods/string/startswith) | Retorna `True` se uma string começar com o prefixo especificado | `s.starstwith(\"Python\")` |\n",
    "| [strip()](https://www.programiz.com/python-programming/methods/string/strip) | Retorna uma cópia da string com os caracteres passados por parâmetro removidos do início e do final da string | `s.strip(' *@')` |\n",
    "| [swapcase()](https://www.w3schools.com/python/ref_string_swapcase.asp) | Retorna uma cópia da string com letras minúsculas convertidas em maiúsculas e vice-versa | `s.swapcase()`|\n",
    "| [title()](https://www.programiz.com/python-programming/methods/string/title) | Retorna uma cópia da string com a primeira letra de cada palavra convertida para maiúscula | `s.title()` |\n",
    "| [upper()](https://www.programiz.com/python-programming/methods/string/upper) | Retorna uma cópia da string com as letras minúsculas convertidas em maiúsculas | `s.upper()`|\n",
    "| [zfill()](https://www.programiz.com/python-programming/methods/string/zfill) | Retorna uma cópia da string preenchida com 0s (zeros) à esquerda | `s.zfill(8)`|"
   ]
  },
  {
   "cell_type": "code",
   "execution_count": null,
   "metadata": {},
   "outputs": [],
   "source": [
    "s.pad(widt=8, side= 'left'/'right'/'both', fillchar= '0')"
   ]
  }
 ],
 "metadata": {
  "kernelspec": {
   "display_name": "Python 3",
   "language": "python",
   "name": "python3"
  },
  "language_info": {
   "codemirror_mode": {
    "name": "ipython",
    "version": 3
   },
   "file_extension": ".py",
   "mimetype": "text/x-python",
   "name": "python",
   "nbconvert_exporter": "python",
   "pygments_lexer": "ipython3",
   "version": "3.7.3"
  }
 },
 "nbformat": 4,
 "nbformat_minor": 2
}
