{
 "cells": [
  {
   "cell_type": "markdown",
   "metadata": {},
   "source": [
    "## Métodos do Pandas:\n",
    "- criação DataFrame\n",
    "- sort, drop, index, rename\n",
    "- append, merge e concat\n",
    "- group by\n",
    "- crosstab e pivot_table <https://pbpython.com/pandas-pivot-table-explained.html>\n",
    "- multiindices\n",
    "- total linha, coluna, DataFrame"
   ]
  },
  {
   "cell_type": "code",
   "execution_count": 2,
   "metadata": {},
   "outputs": [],
   "source": [
    "import pandas as pd\n",
    "import numpy as np"
   ]
  },
  {
   "cell_type": "code",
   "execution_count": null,
   "metadata": {},
   "outputs": [],
   "source": [
    "pd.options.display.float_format = 'R${:,.2f}'.format"
   ]
  },
  {
   "cell_type": "code",
   "execution_count": null,
   "metadata": {},
   "outputs": [],
   "source": [
    "pd.read_excel('nome_arq.xlsx', sheet_name = 'nome_plan')"
   ]
  },
  {
   "cell_type": "code",
   "execution_count": null,
   "metadata": {},
   "outputs": [],
   "source": [
    "gp = df.groupby('cat1', 'cat2').vel.agg(['sum','count']).sort_values(by=['count','sum'],ascending=False)\n",
    "df.groupby(['cat1','cat2'])[['quant1', 'quant2']].agg([np.sum, np.mean])\n",
    "gp['percentual'] = gp.apply(lambda x: x/x.sum())"
   ]
  },
  {
   "cell_type": "code",
   "execution_count": null,
   "metadata": {},
   "outputs": [],
   "source": [
    "gp['perc_cat1'] = gp.groupby(level=0).apply(lambda x: x/x.sum())  # % por cat1"
   ]
  },
  {
   "cell_type": "code",
   "execution_count": null,
   "metadata": {},
   "outputs": [],
   "source": [
    "gp.cumsum()\n",
    "gp.groupby(level=0).cumsum()"
   ]
  },
  {
   "cell_type": "code",
   "execution_count": null,
   "metadata": {},
   "outputs": [],
   "source": [
    "df.groupby(['cat1', 'cat2']).agg({'quant1':[np.sum, np.mean], 'quant2':['sum']}).sort_values(by=[('imposto', 'sum')], ascending=False).head(6)"
   ]
  },
  {
   "cell_type": "code",
   "execution_count": null,
   "metadata": {},
   "outputs": [],
   "source": [
    "gp = df.groupby('cat1').agg({'num1': [('sum_num1', 'sum'), ('mean_num1', 'mean')]})\n",
    "gp.columns = gp.columns.droplevel()"
   ]
  },
  {
   "cell_type": "code",
   "execution_count": null,
   "metadata": {},
   "outputs": [],
   "source": [
    "df.pivot_table(index= ['Descricao Municipio : 0030', 'Descricao N630 – Apuracao do IRPJ com base no Lucro Real'],\n",
    "              aggfunc=[np.sum], fill_value=0, columns= ['Data final ECF : 0000: Ano'], \n",
    "               values= ['Valor N630 – Apuracao do IRPJ com base no Lucro Real', 'Quantidade de Registros'])"
   ]
  },
  {
   "cell_type": "code",
   "execution_count": null,
   "metadata": {},
   "outputs": [],
   "source": [
    "pd.concat([df1, df2])  # axis=0, join= 'outer'    empilhamento vertical"
   ]
  },
  {
   "cell_type": "code",
   "execution_count": null,
   "metadata": {},
   "outputs": [],
   "source": [
    "pd.concat([df1, df2], axis= 1)\n",
    "pd.merge(df1, df2, how='left',left_index=True, right_index=True)"
   ]
  },
  {
   "cell_type": "code",
   "execution_count": null,
   "metadata": {},
   "outputs": [],
   "source": [
    "pd.merge(df1, df2, how= 'left', on= 'cnae')  # cuidado com o índice original"
   ]
  },
  {
   "cell_type": "code",
   "execution_count": null,
   "metadata": {},
   "outputs": [],
   "source": [
    "df1.append([df2, df3])"
   ]
  },
  {
   "cell_type": "code",
   "execution_count": null,
   "metadata": {},
   "outputs": [],
   "source": [
    "# lag\n",
    "df['col_lag1'] = df.col.shift(1)\n",
    "df['col_lag2'] = df.col.shift(2)"
   ]
  },
  {
   "cell_type": "code",
   "execution_count": null,
   "metadata": {},
   "outputs": [],
   "source": [
    "# col no formato aaaa-mm-dd\n",
    "df.index = pd.to_datetime(df.mes, format='%Y-%m-%d')\n",
    "df['ano'] = df.index.to_period('A')\n",
    "df['ano_mes'] = df.index.to_period('M')"
   ]
  },
  {
   "cell_type": "code",
   "execution_count": null,
   "metadata": {},
   "outputs": [],
   "source": [
    "# dia para mes ou ano\n",
    "df.resample('M').mean()"
   ]
  },
  {
   "cell_type": "code",
   "execution_count": 2,
   "metadata": {},
   "outputs": [],
   "source": [
    "nf = pd.DataFrame(data= np.array([[201904, 1], \n",
    "                                  [201905, 1], \n",
    "                                  [201905, 2], \n",
    "                                  [201906, 2],\n",
    "                                 [201906, 3]])\n",
    "             , columns= ['dt', 'prod'])\n",
    "aliq = pd.DataFrame(data= np.array([[1, 201801, 201904, 0.4], \n",
    "                                    [1, 201905, 201906, 0.5], \n",
    "                                    [2, 201903, 201905, 0.7],\n",
    "                                   [2, 201906, 201912, 0.8],\n",
    "                                   [2, 202001, 202012, 0.92]]),\n",
    "                   columns= ['prod', 'dt_ini', 'dt_fim', 'aliq'])"
   ]
  },
  {
   "cell_type": "code",
   "execution_count": 3,
   "metadata": {},
   "outputs": [
    {
     "data": {
      "text/html": [
       "<div>\n",
       "<style scoped>\n",
       "    .dataframe tbody tr th:only-of-type {\n",
       "        vertical-align: middle;\n",
       "    }\n",
       "\n",
       "    .dataframe tbody tr th {\n",
       "        vertical-align: top;\n",
       "    }\n",
       "\n",
       "    .dataframe thead th {\n",
       "        text-align: right;\n",
       "    }\n",
       "</style>\n",
       "<table border=\"1\" class=\"dataframe\">\n",
       "  <thead>\n",
       "    <tr style=\"text-align: right;\">\n",
       "      <th></th>\n",
       "      <th>dt</th>\n",
       "      <th>prod</th>\n",
       "      <th>dt_ini</th>\n",
       "      <th>dt_fim</th>\n",
       "      <th>aliq</th>\n",
       "    </tr>\n",
       "  </thead>\n",
       "  <tbody>\n",
       "    <tr>\n",
       "      <th>0</th>\n",
       "      <td>201904</td>\n",
       "      <td>1</td>\n",
       "      <td>201801.0</td>\n",
       "      <td>201904.0</td>\n",
       "      <td>0.4</td>\n",
       "    </tr>\n",
       "    <tr>\n",
       "      <th>3</th>\n",
       "      <td>201905</td>\n",
       "      <td>1</td>\n",
       "      <td>201905.0</td>\n",
       "      <td>201906.0</td>\n",
       "      <td>0.5</td>\n",
       "    </tr>\n",
       "    <tr>\n",
       "      <th>4</th>\n",
       "      <td>201905</td>\n",
       "      <td>2</td>\n",
       "      <td>201903.0</td>\n",
       "      <td>201905.0</td>\n",
       "      <td>0.7</td>\n",
       "    </tr>\n",
       "    <tr>\n",
       "      <th>8</th>\n",
       "      <td>201906</td>\n",
       "      <td>2</td>\n",
       "      <td>201906.0</td>\n",
       "      <td>201912.0</td>\n",
       "      <td>0.8</td>\n",
       "    </tr>\n",
       "  </tbody>\n",
       "</table>\n",
       "</div>"
      ],
      "text/plain": [
       "       dt  prod    dt_ini    dt_fim  aliq\n",
       "0  201904     1  201801.0  201904.0   0.4\n",
       "3  201905     1  201905.0  201906.0   0.5\n",
       "4  201905     2  201903.0  201905.0   0.7\n",
       "8  201906     2  201906.0  201912.0   0.8"
      ]
     },
     "execution_count": 3,
     "metadata": {},
     "output_type": "execute_result"
    }
   ],
   "source": [
    "# atribui aliq a nf\n",
    "pd.merge(nf, aliq, how= 'left', on=['prod']).query('dt >= dt_ini & dt <= dt_fim')#.drop(columns=['dt_ini', 'dt_fim'])"
   ]
  },
  {
   "cell_type": "code",
   "execution_count": 4,
   "metadata": {},
   "outputs": [
    {
     "data": {
      "text/html": [
       "<div>\n",
       "<style scoped>\n",
       "    .dataframe tbody tr th:only-of-type {\n",
       "        vertical-align: middle;\n",
       "    }\n",
       "\n",
       "    .dataframe tbody tr th {\n",
       "        vertical-align: top;\n",
       "    }\n",
       "\n",
       "    .dataframe thead th {\n",
       "        text-align: right;\n",
       "    }\n",
       "</style>\n",
       "<table border=\"1\" class=\"dataframe\">\n",
       "  <thead>\n",
       "    <tr style=\"text-align: right;\">\n",
       "      <th></th>\n",
       "      <th>dt</th>\n",
       "      <th>prod</th>\n",
       "      <th>dt_ini</th>\n",
       "      <th>dt_fim</th>\n",
       "      <th>aliq</th>\n",
       "    </tr>\n",
       "  </thead>\n",
       "  <tbody>\n",
       "    <tr>\n",
       "      <th>10</th>\n",
       "      <td>201906</td>\n",
       "      <td>3</td>\n",
       "      <td>NaN</td>\n",
       "      <td>NaN</td>\n",
       "      <td>NaN</td>\n",
       "    </tr>\n",
       "  </tbody>\n",
       "</table>\n",
       "</div>"
      ],
      "text/plain": [
       "        dt  prod  dt_ini  dt_fim  aliq\n",
       "10  201906     3     NaN     NaN   NaN"
      ]
     },
     "execution_count": 4,
     "metadata": {},
     "output_type": "execute_result"
    }
   ],
   "source": [
    "# registros nf ausentes da tab de aliquotas\n",
    "pd.merge(nf, aliq, how= 'left', on=['prod']).pipe(lambda df: df.loc[df.aliq.isna()])"
   ]
  },
  {
   "cell_type": "code",
   "execution_count": 3,
   "metadata": {},
   "outputs": [
    {
     "data": {
      "text/html": [
       "<div>\n",
       "<style scoped>\n",
       "    .dataframe tbody tr th:only-of-type {\n",
       "        vertical-align: middle;\n",
       "    }\n",
       "\n",
       "    .dataframe tbody tr th {\n",
       "        vertical-align: top;\n",
       "    }\n",
       "\n",
       "    .dataframe thead th {\n",
       "        text-align: right;\n",
       "    }\n",
       "</style>\n",
       "<table border=\"1\" class=\"dataframe\">\n",
       "  <thead>\n",
       "    <tr style=\"text-align: right;\">\n",
       "      <th></th>\n",
       "      <th>c0</th>\n",
       "      <th>c1</th>\n",
       "      <th>c2</th>\n",
       "    </tr>\n",
       "  </thead>\n",
       "  <tbody>\n",
       "    <tr>\n",
       "      <th>0</th>\n",
       "      <td>10</td>\n",
       "      <td>1</td>\n",
       "      <td>11</td>\n",
       "    </tr>\n",
       "    <tr>\n",
       "      <th>1</th>\n",
       "      <td>20</td>\n",
       "      <td>2</td>\n",
       "      <td>22</td>\n",
       "    </tr>\n",
       "  </tbody>\n",
       "</table>\n",
       "</div>"
      ],
      "text/plain": [
       "   c0  c1  c2\n",
       "0  10   1  11\n",
       "1  20   2  22"
      ]
     },
     "execution_count": 3,
     "metadata": {},
     "output_type": "execute_result"
    }
   ],
   "source": [
    "# apply a function to DataFrame:\n",
    "df = pd.DataFrame(data= np.array([[10, 1],\n",
    "                                 [20, 2]]), columns = ['c0', 'c1'])\n",
    "def imput(cols):\n",
    "    return cols[0] + cols[1]                          # soma na linha\n",
    "df['c2'] = df[['c0', 'c1']].apply(imput, axis= 1)\n",
    "df"
   ]
  },
  {
   "cell_type": "code",
   "execution_count": 7,
   "metadata": {},
   "outputs": [
    {
     "data": {
      "text/plain": [
       "0    121\n",
       "1     44\n",
       "Name: c2, dtype: int64"
      ]
     },
     "execution_count": 7,
     "metadata": {},
     "output_type": "execute_result"
    }
   ],
   "source": [
    "df.c2.apply(lambda x: x*x if (x < 20) else x+x)"
   ]
  },
  {
   "cell_type": "code",
   "execution_count": null,
   "metadata": {},
   "outputs": [],
   "source": [
    "# registros nulos\n",
    "sns.heatmap(df.isna(), yticklabels= False, cbar= False, cmap= 'viridis')\n",
    "df.isna().sum().sort_values(ascending= False)"
   ]
  }
 ],
 "metadata": {
  "kernelspec": {
   "display_name": "Python 3",
   "language": "python",
   "name": "python3"
  },
  "language_info": {
   "codemirror_mode": {
    "name": "ipython",
    "version": 3
   },
   "file_extension": ".py",
   "mimetype": "text/x-python",
   "name": "python",
   "nbconvert_exporter": "python",
   "pygments_lexer": "ipython3",
   "version": "3.7.4"
  }
 },
 "nbformat": 4,
 "nbformat_minor": 2
}
