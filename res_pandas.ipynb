{
 "cells": [
  {
   "cell_type": "markdown",
   "metadata": {},
   "source": [
    "## Métodos do Pandas:\n",
    "- criação DataFrame\n",
    "- sort, drop, index, rename\n",
    "- append, merge e concat\n",
    "- group by\n",
    "- crosstab e pivot_table <https://pbpython.com/pandas-pivot-table-explained.html>\n",
    "- multiindices\n",
    "- total linha, coluna, DataFrame"
   ]
  },
  {
   "cell_type": "code",
   "execution_count": 1,
   "metadata": {},
   "outputs": [],
   "source": [
    "import pandas as pd\n",
    "import numpy as np"
   ]
  },
  {
   "cell_type": "code",
   "execution_count": null,
   "metadata": {},
   "outputs": [],
   "source": [
    "d_configuracao = {'display.max_columns': 1000,\n",
    "                  'display.expand_frame_repr': True,\n",
    "                  'display.max_rows': 10,\n",
    "                  'display.precision': 2,\n",
    "                  'display.show_dimensions': True,\n",
    "                 'display.float_format': '{:,.2f}'.format}\n",
    "\n",
    "for op, value in d_configuracao.items():\n",
    "    pd.set_option(op, value)\n",
    "    print(op, value)"
   ]
  },
  {
   "cell_type": "code",
   "execution_count": null,
   "metadata": {},
   "outputs": [],
   "source": [
    "pd.options.display.float_format = 'R${:,.2f}'.format\n",
    "pd.get_option(\"display.max_rows\")\n",
    "pd.set_option(\"display.max_rows\", 101)\n",
    "pd.get_option(\"display.max_columns\")\n",
    "pd.set_option(\"display.max_columns\", 101)"
   ]
  },
  {
   "cell_type": "code",
   "execution_count": null,
   "metadata": {},
   "outputs": [],
   "source": [
    "pd.read_excel('nome_arq.xlsx', sheet_name = 'nome_plan')"
   ]
  },
  {
   "cell_type": "code",
   "execution_count": null,
   "metadata": {},
   "outputs": [],
   "source": [
    "import chardet\n",
    "with open('pedidos.csv', 'rb') as f:\n",
    "    result = chardet.detect(f.read())\n",
    "print(result)\n",
    "pd.read_csv('nome_arq.csv', encoding=result[0], sep=';')"
   ]
  },
  {
   "cell_type": "code",
   "execution_count": null,
   "metadata": {},
   "outputs": [],
   "source": [
    "df.describe(exclude='number')   # include"
   ]
  },
  {
   "cell_type": "code",
   "execution_count": null,
   "metadata": {},
   "outputs": [],
   "source": [
    "gp = df.groupby('cat1', 'cat2').vel.agg(['sum','count']).sort_values(by=['count','sum'],ascending=False)\n",
    "df.groupby(['cat1','cat2'])[['quant1', 'quant2']].agg([np.sum, np.mean])\n",
    "gp['percentual'] = gp.apply(lambda x: x/x.sum())"
   ]
  },
  {
   "cell_type": "code",
   "execution_count": null,
   "metadata": {},
   "outputs": [],
   "source": [
    "gp['perc_cat1'] = gp.groupby(level=0).apply(lambda x: x/x.sum())  # % por cat1"
   ]
  },
  {
   "cell_type": "code",
   "execution_count": null,
   "metadata": {},
   "outputs": [],
   "source": [
    "gp.cumsum()\n",
    "gp.groupby(level=0).cumsum()"
   ]
  },
  {
   "cell_type": "code",
   "execution_count": null,
   "metadata": {},
   "outputs": [],
   "source": [
    "df.groupby(['cat1', 'cat2']).agg({'quant1':[np.sum, np.mean], 'quant2':['sum']}).sort_values(by=[('imposto', 'sum')], ascending=False).head(6)"
   ]
  },
  {
   "cell_type": "code",
   "execution_count": null,
   "metadata": {},
   "outputs": [],
   "source": [
    "gp = df.groupby('cat1').agg({'num1': [('sum_num1', 'sum'), ('mean_num1', 'mean')]})\n",
    "gp.columns = gp.columns.droplevel()"
   ]
  },
  {
   "cell_type": "code",
   "execution_count": null,
   "metadata": {},
   "outputs": [],
   "source": [
    "# pivot sem agregar os dados (mantendo o índice):\n",
    "df.pivot(columns=\"col1\", values=\"col2\")"
   ]
  },
  {
   "cell_type": "code",
   "execution_count": null,
   "metadata": {},
   "outputs": [],
   "source": [
    "df.pivot_table(index= ['col1', 'col2'],\n",
    "              aggfunc=[np.sum], fill_value=0, columns= ['col3'], \n",
    "               values= ['col_vlr4', 'col_qtde_5'])"
   ]
  },
  {
   "cell_type": "code",
   "execution_count": null,
   "metadata": {},
   "outputs": [],
   "source": [
    "pd.concat([df1, df2])  # axis=0, join= 'outer'    empilhamento vertical"
   ]
  },
  {
   "cell_type": "code",
   "execution_count": null,
   "metadata": {},
   "outputs": [],
   "source": [
    "pd.concat([df1, df2], axis= 1)\n",
    "pd.merge(df1, df2, how='left',left_index=True, right_index=True)"
   ]
  },
  {
   "cell_type": "code",
   "execution_count": null,
   "metadata": {},
   "outputs": [],
   "source": [
    "pd.merge(df1, df2, how= 'left', on= 'cnae')  # cuidado com o índice original"
   ]
  },
  {
   "cell_type": "code",
   "execution_count": null,
   "metadata": {},
   "outputs": [],
   "source": [
    "df1.append([df2, df3])"
   ]
  },
  {
   "cell_type": "code",
   "execution_count": null,
   "metadata": {},
   "outputs": [],
   "source": [
    "# lag\n",
    "df['col_lag1'] = df.col.shift(1)\n",
    "df['col_lag2'] = df.col.shift(2)"
   ]
  },
  {
   "cell_type": "code",
   "execution_count": null,
   "metadata": {},
   "outputs": [],
   "source": [
    "# col no formato aaaa-mm-dd\n",
    "df.index = pd.to_datetime(df.mes, format='%Y-%m-%d')\n",
    "df['ano'] = df.index.to_period('A')\n",
    "df['ano_mes'] = df.index.to_period('M')"
   ]
  },
  {
   "cell_type": "code",
   "execution_count": null,
   "metadata": {},
   "outputs": [],
   "source": [
    "# dia para mes ou ano\n",
    "df.resample('M').mean()"
   ]
  },
  {
   "cell_type": "code",
   "execution_count": 2,
   "metadata": {},
   "outputs": [],
   "source": [
    "nf = pd.DataFrame(data= np.array([[201904, 1], \n",
    "                                  [201905, 1], \n",
    "                                  [201905, 2], \n",
    "                                  [201906, 2],\n",
    "                                 [201906, 3]])\n",
    "             , columns= ['dt', 'prod'])\n",
    "aliq = pd.DataFrame(data= np.array([[1, 201801, 201904, 0.4], \n",
    "                                    [1, 201905, 201906, 0.5], \n",
    "                                    [2, 201903, 201905, 0.7],\n",
    "                                   [2, 201906, 201912, 0.8],\n",
    "                                   [2, 202001, 202012, 0.92]]),\n",
    "                   columns= ['prod', 'dt_ini', 'dt_fim', 'aliq'])"
   ]
  },
  {
   "cell_type": "code",
   "execution_count": 3,
   "metadata": {},
   "outputs": [
    {
     "data": {
      "text/html": [
       "<div>\n",
       "<style scoped>\n",
       "    .dataframe tbody tr th:only-of-type {\n",
       "        vertical-align: middle;\n",
       "    }\n",
       "\n",
       "    .dataframe tbody tr th {\n",
       "        vertical-align: top;\n",
       "    }\n",
       "\n",
       "    .dataframe thead th {\n",
       "        text-align: right;\n",
       "    }\n",
       "</style>\n",
       "<table border=\"1\" class=\"dataframe\">\n",
       "  <thead>\n",
       "    <tr style=\"text-align: right;\">\n",
       "      <th></th>\n",
       "      <th>dt</th>\n",
       "      <th>prod</th>\n",
       "      <th>dt_ini</th>\n",
       "      <th>dt_fim</th>\n",
       "      <th>aliq</th>\n",
       "    </tr>\n",
       "  </thead>\n",
       "  <tbody>\n",
       "    <tr>\n",
       "      <th>0</th>\n",
       "      <td>201904</td>\n",
       "      <td>1</td>\n",
       "      <td>201801.0</td>\n",
       "      <td>201904.0</td>\n",
       "      <td>0.4</td>\n",
       "    </tr>\n",
       "    <tr>\n",
       "      <th>3</th>\n",
       "      <td>201905</td>\n",
       "      <td>1</td>\n",
       "      <td>201905.0</td>\n",
       "      <td>201906.0</td>\n",
       "      <td>0.5</td>\n",
       "    </tr>\n",
       "    <tr>\n",
       "      <th>4</th>\n",
       "      <td>201905</td>\n",
       "      <td>2</td>\n",
       "      <td>201903.0</td>\n",
       "      <td>201905.0</td>\n",
       "      <td>0.7</td>\n",
       "    </tr>\n",
       "    <tr>\n",
       "      <th>8</th>\n",
       "      <td>201906</td>\n",
       "      <td>2</td>\n",
       "      <td>201906.0</td>\n",
       "      <td>201912.0</td>\n",
       "      <td>0.8</td>\n",
       "    </tr>\n",
       "  </tbody>\n",
       "</table>\n",
       "</div>"
      ],
      "text/plain": [
       "       dt  prod    dt_ini    dt_fim  aliq\n",
       "0  201904     1  201801.0  201904.0   0.4\n",
       "3  201905     1  201905.0  201906.0   0.5\n",
       "4  201905     2  201903.0  201905.0   0.7\n",
       "8  201906     2  201906.0  201912.0   0.8"
      ]
     },
     "execution_count": 3,
     "metadata": {},
     "output_type": "execute_result"
    }
   ],
   "source": [
    "# atribui aliq a nf\n",
    "pd.merge(nf, aliq, how= 'left', on=['prod']).query('dt >= dt_ini & dt <= dt_fim')#.drop(columns=['dt_ini', 'dt_fim'])"
   ]
  },
  {
   "cell_type": "code",
   "execution_count": 4,
   "metadata": {},
   "outputs": [
    {
     "data": {
      "text/html": [
       "<div>\n",
       "<style scoped>\n",
       "    .dataframe tbody tr th:only-of-type {\n",
       "        vertical-align: middle;\n",
       "    }\n",
       "\n",
       "    .dataframe tbody tr th {\n",
       "        vertical-align: top;\n",
       "    }\n",
       "\n",
       "    .dataframe thead th {\n",
       "        text-align: right;\n",
       "    }\n",
       "</style>\n",
       "<table border=\"1\" class=\"dataframe\">\n",
       "  <thead>\n",
       "    <tr style=\"text-align: right;\">\n",
       "      <th></th>\n",
       "      <th>dt</th>\n",
       "      <th>prod</th>\n",
       "      <th>dt_ini</th>\n",
       "      <th>dt_fim</th>\n",
       "      <th>aliq</th>\n",
       "    </tr>\n",
       "  </thead>\n",
       "  <tbody>\n",
       "    <tr>\n",
       "      <th>10</th>\n",
       "      <td>201906</td>\n",
       "      <td>3</td>\n",
       "      <td>NaN</td>\n",
       "      <td>NaN</td>\n",
       "      <td>NaN</td>\n",
       "    </tr>\n",
       "  </tbody>\n",
       "</table>\n",
       "</div>"
      ],
      "text/plain": [
       "        dt  prod  dt_ini  dt_fim  aliq\n",
       "10  201906     3     NaN     NaN   NaN"
      ]
     },
     "execution_count": 4,
     "metadata": {},
     "output_type": "execute_result"
    }
   ],
   "source": [
    "# registros nf ausentes da tab de aliquotas\n",
    "pd.merge(nf, aliq, how= 'left', on=['prod']).pipe(lambda df: df.loc[df.aliq.isna()])"
   ]
  },
  {
   "cell_type": "code",
   "execution_count": null,
   "metadata": {},
   "outputs": [],
   "source": [
    "df.iloc[:,0:5].astype('category')"
   ]
  },
  {
   "cell_type": "code",
   "execution_count": null,
   "metadata": {},
   "outputs": [],
   "source": [
    "df[['col1','col2']].max(axis=1)"
   ]
  },
  {
   "cell_type": "code",
   "execution_count": 3,
   "metadata": {},
   "outputs": [
    {
     "data": {
      "text/html": [
       "<div>\n",
       "<style scoped>\n",
       "    .dataframe tbody tr th:only-of-type {\n",
       "        vertical-align: middle;\n",
       "    }\n",
       "\n",
       "    .dataframe tbody tr th {\n",
       "        vertical-align: top;\n",
       "    }\n",
       "\n",
       "    .dataframe thead th {\n",
       "        text-align: right;\n",
       "    }\n",
       "</style>\n",
       "<table border=\"1\" class=\"dataframe\">\n",
       "  <thead>\n",
       "    <tr style=\"text-align: right;\">\n",
       "      <th></th>\n",
       "      <th>c0</th>\n",
       "      <th>c1</th>\n",
       "      <th>c2</th>\n",
       "    </tr>\n",
       "  </thead>\n",
       "  <tbody>\n",
       "    <tr>\n",
       "      <th>0</th>\n",
       "      <td>10</td>\n",
       "      <td>1</td>\n",
       "      <td>11</td>\n",
       "    </tr>\n",
       "    <tr>\n",
       "      <th>1</th>\n",
       "      <td>20</td>\n",
       "      <td>2</td>\n",
       "      <td>22</td>\n",
       "    </tr>\n",
       "  </tbody>\n",
       "</table>\n",
       "</div>"
      ],
      "text/plain": [
       "   c0  c1  c2\n",
       "0  10   1  11\n",
       "1  20   2  22"
      ]
     },
     "execution_count": 3,
     "metadata": {},
     "output_type": "execute_result"
    }
   ],
   "source": [
    "# apply a function to DataFrame:\n",
    "df = pd.DataFrame(data= np.array([[10, 1],\n",
    "                                 [20, 2]]), columns = ['c0', 'c1'])\n",
    "def imput(cols):\n",
    "    return cols[0] + cols[1] # soma na linha\n",
    "\n",
    "df['c2'] = df[['c0', 'c1']].apply(imput, axis= 1)\n",
    "df"
   ]
  },
  {
   "cell_type": "code",
   "execution_count": 7,
   "metadata": {},
   "outputs": [
    {
     "data": {
      "text/plain": [
       "0    121\n",
       "1     44\n",
       "Name: c2, dtype: int64"
      ]
     },
     "execution_count": 7,
     "metadata": {},
     "output_type": "execute_result"
    }
   ],
   "source": [
    "df.c2.apply(lambda x: x*x if (x < 20) else x+x)"
   ]
  },
  {
   "cell_type": "code",
   "execution_count": null,
   "metadata": {},
   "outputs": [],
   "source": [
    "bins= [0.3, 0.5, 1, 2.5, 5, 10, 1500]\n",
    "col['intervalo'] = pd.cut(df.col_valor, bins=bins)"
   ]
  },
  {
   "cell_type": "code",
   "execution_count": null,
   "metadata": {},
   "outputs": [],
   "source": [
    "# registros nulos\n",
    "sns.heatmap(df.isna(), yticklabels= False, cbar= False, cmap= 'viridis')\n",
    "df.isna().sum().sort_values(ascending= False)\n",
    "# drop nulos\n",
    "df.dropna(axis=1, inplace=True)  # subset=[col1, col2] col com nulos; axis=0=defalut= apaga linhas; 1=colunas\n",
    "# tratamento: verficando col correlacionada:\n",
    "df.corr()['col_foco'].sort_values().drop('col_foco').plot.bar()\n",
    "# interpolação via pandas com base no index: <https://pandas.pydata.org/pandas-docs/stable/reference/api/pandas.DataFrame.interpolate.html>\n",
    "col_foco.interpolate()"
   ]
  },
  {
   "cell_type": "code",
   "execution_count": null,
   "metadata": {},
   "outputs": [],
   "source": [
    "# registros duplicados\n",
    "df.drop_duplicates(keep='first/last/False', inplace=True)  # subset=[col1, col2]  # para restringir a duplicidade"
   ]
  },
  {
   "cell_type": "code",
   "execution_count": null,
   "metadata": {},
   "outputs": [],
   "source": [
    "drop_index = df.loc[df.col.isin(['str1', 'str2'])].index\n",
    "df.drop(index = drop_index, inplace = True)"
   ]
  },
  {
   "cell_type": "code",
   "execution_count": null,
   "metadata": {},
   "outputs": [],
   "source": [
    "{col:col for col in df.columns}\n",
    "df.rename(columns={'col1':'new_col1'})"
   ]
  },
  {
   "cell_type": "code",
   "execution_count": 4,
   "metadata": {},
   "outputs": [],
   "source": [
    "from math import log10  as log10"
   ]
  },
  {
   "cell_type": "code",
   "execution_count": 20,
   "metadata": {},
   "outputs": [
    {
     "data": {
      "text/plain": [
       "0.13082402064781276"
      ]
     },
     "execution_count": 20,
     "metadata": {},
     "output_type": "execute_result"
    }
   ],
   "source": [
    "log10(2*10/10) / log10(2*1000/10)"
   ]
  },
  {
   "cell_type": "code",
   "execution_count": 9,
   "metadata": {},
   "outputs": [
    {
     "data": {
      "text/plain": [
       "4.0"
      ]
     },
     "execution_count": 9,
     "metadata": {},
     "output_type": "execute_result"
    }
   ],
   "source": [
    "log10(10000)"
   ]
  },
  {
   "cell_type": "code",
   "execution_count": 3,
   "metadata": {},
   "outputs": [
    {
     "data": {
      "text/plain": [
       "4.0"
      ]
     },
     "execution_count": 3,
     "metadata": {},
     "output_type": "execute_result"
    }
   ],
   "source": [
    "np.log10(1e4)"
   ]
  },
  {
   "cell_type": "code",
   "execution_count": 36,
   "metadata": {},
   "outputs": [
    {
     "data": {
      "text/plain": [
       "array([[5, 0, 3, 3, 7, 9, 3, 5, 2, 4, 7],\n",
       "       [6, 8, 8, 1, 6, 7, 7, 8, 1, 5, 9],\n",
       "       [8, 9, 4, 3, 0, 3, 5, 0, 2, 3, 8]])"
      ]
     },
     "execution_count": 36,
     "metadata": {},
     "output_type": "execute_result"
    }
   ],
   "source": [
    "np.random.seed(0)\n",
    "cpfs = np.random.randint(0,10,(3,11))\n",
    "cpfs"
   ]
  },
  {
   "cell_type": "code",
   "execution_count": 39,
   "metadata": {},
   "outputs": [
    {
     "data": {
      "text/plain": [
       "array([[5, 0, 3, 3, 7, 9, 3, 5, 2, 0, 0],\n",
       "       [6, 8, 8, 1, 6, 7, 7, 8, 1, 0, 0],\n",
       "       [8, 9, 4, 3, 0, 3, 5, 0, 2, 0, 0]])"
      ]
     },
     "execution_count": 39,
     "metadata": {},
     "output_type": "execute_result"
    }
   ],
   "source": [
    "cpfs[:, 9] = np.zeros((3), dtype= int)   # zera 2 ultimos digitos\n",
    "cpfs[:, 10] = np.zeros((3), dtype= int)\n",
    "cpfs"
   ]
  },
  {
   "cell_type": "code",
   "execution_count": 41,
   "metadata": {},
   "outputs": [
    {
     "data": {
      "text/plain": [
       "array([10,  9,  8,  7,  6,  5,  4,  3,  2,  0,  0])"
      ]
     },
     "execution_count": 41,
     "metadata": {},
     "output_type": "execute_result"
    }
   ],
   "source": [
    "w1 = np.zeros(11, int)\n",
    "w1[0:9] = np.arange(10, 1, -1)\n",
    "w1"
   ]
  },
  {
   "cell_type": "code",
   "execution_count": 52,
   "metadata": {},
   "outputs": [
    {
     "data": {
      "text/plain": [
       "array([7, 2, 0], dtype=int32)"
      ]
     },
     "execution_count": 52,
     "metadata": {},
     "output_type": "execute_result"
    }
   ],
   "source": [
    "dv1 = np.dot(cpfs,w1) * 10 % 11 % 10\n",
    "dv1"
   ]
  },
  {
   "cell_type": "code",
   "execution_count": 64,
   "metadata": {},
   "outputs": [
    {
     "data": {
      "text/plain": [
       "array([11, 10,  9,  8,  7,  6,  5,  4,  3,  2,  0])"
      ]
     },
     "execution_count": 64,
     "metadata": {},
     "output_type": "execute_result"
    }
   ],
   "source": [
    "w2 = np.zeros(11, int)\n",
    "w2[0:10] = np.arange(11, 1, -1)\n",
    "w2"
   ]
  },
  {
   "cell_type": "code",
   "execution_count": 65,
   "metadata": {},
   "outputs": [
    {
     "data": {
      "text/plain": [
       "array([0, 1, 0], dtype=int32)"
      ]
     },
     "execution_count": 65,
     "metadata": {},
     "output_type": "execute_result"
    }
   ],
   "source": [
    "dv2 = np.dot(cpfs,w2) * 10 % 11 % 10\n",
    "dv2"
   ]
  },
  {
   "cell_type": "code",
   "execution_count": 66,
   "metadata": {},
   "outputs": [
    {
     "data": {
      "text/plain": [
       "array([[5, 0, 3, 3, 7, 9, 3, 5, 2, 7, 0],\n",
       "       [6, 8, 8, 1, 6, 7, 7, 8, 1, 2, 1],\n",
       "       [8, 9, 4, 3, 0, 3, 5, 0, 2, 0, 0]])"
      ]
     },
     "execution_count": 66,
     "metadata": {},
     "output_type": "execute_result"
    }
   ],
   "source": [
    "cpfs[:, 9] = dv1\n",
    "cpfs[:, 10] = dv2\n",
    "cpfs"
   ]
  },
  {
   "cell_type": "code",
   "execution_count": 67,
   "metadata": {},
   "outputs": [
    {
     "data": {
      "text/plain": [
       "[['5', '0', '3', '3', '7', '9', '3', '5', '2', '7', '0'],\n",
       " ['6', '8', '8', '1', '6', '7', '7', '8', '1', '2', '1'],\n",
       " ['8', '9', '4', '3', '0', '3', '5', '0', '2', '0', '0']]"
      ]
     },
     "execution_count": 67,
     "metadata": {},
     "output_type": "execute_result"
    }
   ],
   "source": [
    "l_cpf = cpfs.astype(str).tolist()\n",
    "l_cpf"
   ]
  },
  {
   "cell_type": "code",
   "execution_count": 68,
   "metadata": {},
   "outputs": [
    {
     "data": {
      "text/plain": [
       "['50337935270', '68816778121', '89430350200']"
      ]
     },
     "execution_count": 68,
     "metadata": {},
     "output_type": "execute_result"
    }
   ],
   "source": [
    "[''.join(d) for d in l_cpf]"
   ]
  },
  {
   "cell_type": "code",
   "execution_count": null,
   "metadata": {},
   "outputs": [],
   "source": []
  }
 ],
 "metadata": {
  "kernelspec": {
   "display_name": "Python 3",
   "language": "python",
   "name": "python3"
  },
  "language_info": {
   "codemirror_mode": {
    "name": "ipython",
    "version": 3
   },
   "file_extension": ".py",
   "mimetype": "text/x-python",
   "name": "python",
   "nbconvert_exporter": "python",
   "pygments_lexer": "ipython3",
   "version": "3.8.5"
  }
 },
 "nbformat": 4,
 "nbformat_minor": 2
}
