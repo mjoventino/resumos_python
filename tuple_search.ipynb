{
 "cells": [
  {
   "cell_type": "code",
   "execution_count": 18,
   "metadata": {},
   "outputs": [],
   "source": [
    "its = ('titulo', (0,'i0'),\n",
    "      (1,'i1'),\n",
    "       ('subitem1', (10, 's1-0'),\n",
    "       (11, 's1-1')),\n",
    "      (2,'i2'))\n",
    "l_its = ['titulo', [0,'i0'],\n",
    "        [1,'i1'],\n",
    "         ['subtitulo1', [10,'s1-0'],\n",
    "         [11, 's1-1']],\n",
    "        [2,'i2'],\n",
    "        [3,'i3']]"
   ]
  },
  {
   "cell_type": "code",
   "execution_count": 16,
   "metadata": {},
   "outputs": [
    {
     "name": "stdout",
     "output_type": "stream",
     "text": [
      "tit_procurado (10, 's1-0')\n"
     ]
    }
   ],
   "source": [
    "i = 0\n",
    "def procura_tit1(its, tit, max_=1000):\n",
    "    global i\n",
    "    i += 1\n",
    "    for tuplas in its:\n",
    "        if type(tuplas) == tuple: \n",
    "            #print(tuplas[0], tuplas[1])\n",
    "            if tuplas[0] == tit: \n",
    "                print('tit_procurado', tuplas)\n",
    "                return tuplas[1]\n",
    "            else: \n",
    "                if i > max_:\n",
    "                    return\n",
    "                else:\n",
    "                    procura_tit(tuplas, tit)\n",
    "procura_tit(its, 10)                "
   ]
  },
  {
   "cell_type": "code",
   "execution_count": 32,
   "metadata": {},
   "outputs": [
    {
     "name": "stdout",
     "output_type": "stream",
     "text": [
      "tit_procurado [11, 's1-1']\n",
      "11\n"
     ]
    }
   ],
   "source": [
    "i = 0\n",
    "def procura_tit(its, tit, max_=1000):\n",
    "    global i\n",
    "    global tit_procurado\n",
    "    i += 1\n",
    "    for tuplas in its:\n",
    "        if type(tuplas) == list: \n",
    "            #print(tuplas[0], tuplas[1])\n",
    "            if tuplas[0] == tit: \n",
    "                print('tit_procurado', tuplas)\n",
    "                tit_procurado = tit #tuplas[0]\n",
    "                #return tit\n",
    "            else: \n",
    "                if i > max_:\n",
    "                    return\n",
    "                else:\n",
    "                    tit_procurado =  procura_tit(tuplas, tit)\n",
    "    return tit_procurado               \n",
    "tit = procura_tit(l_its, 11)                \n",
    "print(tit)"
   ]
  },
  {
   "cell_type": "code",
   "execution_count": null,
   "metadata": {},
   "outputs": [],
   "source": []
  }
 ],
 "metadata": {
  "kernelspec": {
   "display_name": "Python 3",
   "language": "python",
   "name": "python3"
  },
  "language_info": {
   "codemirror_mode": {
    "name": "ipython",
    "version": 3
   },
   "file_extension": ".py",
   "mimetype": "text/x-python",
   "name": "python",
   "nbconvert_exporter": "python",
   "pygments_lexer": "ipython3",
   "version": "3.8.3"
  }
 },
 "nbformat": 4,
 "nbformat_minor": 4
}
