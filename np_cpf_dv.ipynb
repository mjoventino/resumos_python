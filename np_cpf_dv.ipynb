{
 "cells": [
  {
   "cell_type": "markdown",
   "metadata": {},
   "source": [
    "# Calcula digitos verificadores do cpf"
   ]
  },
  {
   "cell_type": "code",
   "execution_count": 1,
   "metadata": {},
   "outputs": [],
   "source": [
    "import numpy as np"
   ]
  },
  {
   "cell_type": "code",
   "execution_count": 2,
   "metadata": {},
   "outputs": [
    {
     "data": {
      "text/plain": [
       "array([[5, 0, 3, 3, 7, 9, 3, 5, 2, 4, 7],\n",
       "       [6, 8, 8, 1, 6, 7, 7, 8, 1, 5, 9],\n",
       "       [8, 9, 4, 3, 0, 3, 5, 0, 2, 3, 8]])"
      ]
     },
     "execution_count": 2,
     "metadata": {},
     "output_type": "execute_result"
    }
   ],
   "source": [
    "np.random.seed(0)\n",
    "cpfs = np.random.randint(0,10,(3,11))\n",
    "cpfs"
   ]
  },
  {
   "cell_type": "code",
   "execution_count": 3,
   "metadata": {},
   "outputs": [
    {
     "data": {
      "text/plain": [
       "array([[5, 0, 3, 3, 7, 9, 3, 5, 2, 0, 0],\n",
       "       [6, 8, 8, 1, 6, 7, 7, 8, 1, 0, 0],\n",
       "       [8, 9, 4, 3, 0, 3, 5, 0, 2, 0, 0]])"
      ]
     },
     "execution_count": 3,
     "metadata": {},
     "output_type": "execute_result"
    }
   ],
   "source": [
    "cpfs[:, 9] = np.zeros((3), dtype= int)   # zera 2 ultimos digitos\n",
    "cpfs[:, 10] = np.zeros((3), dtype= int)\n",
    "cpfs"
   ]
  },
  {
   "cell_type": "code",
   "execution_count": 4,
   "metadata": {},
   "outputs": [
    {
     "data": {
      "text/plain": [
       "array([10,  9,  8,  7,  6,  5,  4,  3,  2,  0,  0])"
      ]
     },
     "execution_count": 4,
     "metadata": {},
     "output_type": "execute_result"
    }
   ],
   "source": [
    "w1 = np.zeros(11, int)\n",
    "w1[0:9] = np.arange(10, 1, -1)\n",
    "w1"
   ]
  },
  {
   "cell_type": "code",
   "execution_count": 5,
   "metadata": {},
   "outputs": [
    {
     "data": {
      "text/plain": [
       "array([7, 2, 0], dtype=int32)"
      ]
     },
     "execution_count": 5,
     "metadata": {},
     "output_type": "execute_result"
    }
   ],
   "source": [
    "# shapes: (a,b) * (b,c) = (a,c)     # dot: soma resultado\n",
    "dv1 = np.dot(cpfs,w1) * 10 % 11 % 10\n",
    "dv1"
   ]
  },
  {
   "cell_type": "code",
   "execution_count": 6,
   "metadata": {},
   "outputs": [
    {
     "data": {
      "text/plain": [
       "array([11, 10,  9,  8,  7,  6,  5,  4,  3,  2,  0])"
      ]
     },
     "execution_count": 6,
     "metadata": {},
     "output_type": "execute_result"
    }
   ],
   "source": [
    "w2 = np.zeros(11, int)\n",
    "w2[0:10] = np.arange(11, 1, -1)\n",
    "w2"
   ]
  },
  {
   "cell_type": "code",
   "execution_count": 7,
   "metadata": {},
   "outputs": [
    {
     "data": {
      "text/plain": [
       "array([3, 5, 0], dtype=int32)"
      ]
     },
     "execution_count": 7,
     "metadata": {},
     "output_type": "execute_result"
    }
   ],
   "source": [
    "dv2 = np.dot(cpfs,w2) * 10 % 11 % 10\n",
    "dv2"
   ]
  },
  {
   "cell_type": "code",
   "execution_count": 8,
   "metadata": {},
   "outputs": [
    {
     "data": {
      "text/plain": [
       "array([[5, 0, 3, 3, 7, 9, 3, 5, 2, 7, 3],\n",
       "       [6, 8, 8, 1, 6, 7, 7, 8, 1, 2, 5],\n",
       "       [8, 9, 4, 3, 0, 3, 5, 0, 2, 0, 0]])"
      ]
     },
     "execution_count": 8,
     "metadata": {},
     "output_type": "execute_result"
    }
   ],
   "source": [
    "cpfs[:, 9] = dv1\n",
    "cpfs[:, 10] = dv2\n",
    "cpfs"
   ]
  },
  {
   "cell_type": "code",
   "execution_count": 9,
   "metadata": {},
   "outputs": [
    {
     "data": {
      "text/plain": [
       "[['5', '0', '3', '3', '7', '9', '3', '5', '2', '7', '3'],\n",
       " ['6', '8', '8', '1', '6', '7', '7', '8', '1', '2', '5'],\n",
       " ['8', '9', '4', '3', '0', '3', '5', '0', '2', '0', '0']]"
      ]
     },
     "execution_count": 9,
     "metadata": {},
     "output_type": "execute_result"
    }
   ],
   "source": [
    "l_cpf = cpfs.astype(str).tolist()\n",
    "l_cpf"
   ]
  },
  {
   "cell_type": "code",
   "execution_count": 10,
   "metadata": {},
   "outputs": [
    {
     "data": {
      "text/plain": [
       "['50337935273', '68816778125', '89430350200']"
      ]
     },
     "execution_count": 10,
     "metadata": {},
     "output_type": "execute_result"
    }
   ],
   "source": [
    "[''.join(d) for d in l_cpf]"
   ]
  },
  {
   "cell_type": "markdown",
   "metadata": {},
   "source": [
    "## partindo de uma lista"
   ]
  },
  {
   "cell_type": "code",
   "execution_count": 35,
   "metadata": {},
   "outputs": [],
   "source": [
    "cpfs = ['503379352', '688167781', '894303502']"
   ]
  },
  {
   "cell_type": "code",
   "execution_count": 39,
   "metadata": {},
   "outputs": [
    {
     "data": {
      "text/plain": [
       "array(['5', '0', '3', '3', '7', '9', '3', '5', '2'], dtype='<U1')"
      ]
     },
     "execution_count": 39,
     "metadata": {},
     "output_type": "execute_result"
    }
   ],
   "source": [
    "col = 0\n",
    "cpf_d = np.array(cpfs[0][col])\n",
    "for col in range(1,9):\n",
    "    cpf_d = np.append(cpf_d, np.array(cpfs[0][col]))\n",
    "cpf_d    "
   ]
  },
  {
   "cell_type": "code",
   "execution_count": 40,
   "metadata": {},
   "outputs": [
    {
     "data": {
      "text/plain": [
       "array(['5', '0', '3', '3', '7', '9', '3', '5', '2', '6', '8', '8', '1',\n",
       "       '6', '7', '7', '8', '1', '8', '9', '4', '3', '0', '3', '5', '0',\n",
       "       '2'], dtype='<U1')"
      ]
     },
     "execution_count": 40,
     "metadata": {},
     "output_type": "execute_result"
    }
   ],
   "source": [
    "for l in range(1, len(cpfs)):\n",
    "    col = 0\n",
    "    cpf = np.array(cpfs[l][col])\n",
    "    for col in range(1,9):\n",
    "        cpf = np.append(cpf, np.array(cpfs[l][col]))\n",
    "    cpf_d = np.append(cpf_d, cpf)\n",
    "cpf_d"
   ]
  },
  {
   "cell_type": "code",
   "execution_count": 42,
   "metadata": {},
   "outputs": [
    {
     "data": {
      "text/plain": [
       "array([['5', '0', '3', '3', '7', '9', '3', '5', '2'],\n",
       "       ['6', '8', '8', '1', '6', '7', '7', '8', '1'],\n",
       "       ['8', '9', '4', '3', '0', '3', '5', '0', '2']], dtype='<U1')"
      ]
     },
     "execution_count": 42,
     "metadata": {},
     "output_type": "execute_result"
    }
   ],
   "source": [
    "cpf_d.reshape(len(cpfs),9)"
   ]
  },
  {
   "cell_type": "code",
   "execution_count": null,
   "metadata": {},
   "outputs": [],
   "source": []
  }
 ],
 "metadata": {
  "kernelspec": {
   "display_name": "Python 3",
   "language": "python",
   "name": "python3"
  },
  "language_info": {
   "codemirror_mode": {
    "name": "ipython",
    "version": 3
   },
   "file_extension": ".py",
   "mimetype": "text/x-python",
   "name": "python",
   "nbconvert_exporter": "python",
   "pygments_lexer": "ipython3",
   "version": "3.7.3"
  }
 },
 "nbformat": 4,
 "nbformat_minor": 2
}
